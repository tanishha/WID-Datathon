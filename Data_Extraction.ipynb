{
 "cells": [
  {
   "cell_type": "code",
   "execution_count": null,
   "id": "1b678e22",
   "metadata": {},
   "outputs": [],
   "source": [
    "import requests\n",
    "import pandas as pd\n",
    "from datetime import datetime\n",
    "import os\n",
    "from dotenv import load_dotenv\n",
    "load_dotenv()\n",
    "USERNAME = os.getenv('Username')\n",
    "PASSWORD = os.getenv('Password')\n",
    "\n",
    "BASE_URL = 'https://www.space-track.org'\n",
    "LOGIN_URL = f'{BASE_URL}/ajaxauth/login'\n",
    "\n",
    "API_ENDPOINTS = {\n",
    "    'latest_orbits': f'{BASE_URL}/basicspacedata/query/class/gp/EPOCH/>now-30/orderby/NORAD_CAT_ID/format/json',\n",
    "    'recent_history_iss': f'{BASE_URL}/basicspacedata/query/class/gp_history/NORAD_CAT_ID/25544/EPOCH/>now-30/orderby/EPOCH desc/format/json',\n",
    "    'satellite_catalog_recent': f'{BASE_URL}/basicspacedata/query/class/satcat/LAUNCH/>now-30/CURRENT/Y/orderby/LAUNCH desc/format/json',\n",
    "    'recent_conjunctions': f'{BASE_URL}/basicspacedata/query/class/cdm_public/CREATION_DATE/>now-30/orderby/CREATION_DATE desc/format/json',\n",
    "    'predicted_decay': f'{BASE_URL}/basicspacedata/query/class/decay/PRECEDENCE/4/orderby/DECAY_EPOCH desc/format/json'\n",
    "}\n",
    "\n",
    "def login(session):\n",
    "    response = session.post(LOGIN_URL, data={'identity': USERNAME, 'password': PASSWORD})\n",
    "    if response.status_code == 200:\n",
    "        print(\"Successfully logged in.\")\n",
    "    else:\n",
    "        raise Exception(\"Login failed!\")\n",
    "\n",
    "def fetch_and_save(session, endpoint, filename):\n",
    "    response = session.get(endpoint)\n",
    "    if response.status_code == 200:\n",
    "        data = response.json()\n",
    "        if data:\n",
    "            df = pd.DataFrame(data)\n",
    "            df.to_csv(filename, index=False)\n",
    "        else:\n",
    "            print(f\" No data returned for: {filename}\")\n",
    "    else:\n",
    "        print(\"Failed request ({response.status_code}) for: {filename}\")\n",
    "\n",
    "if __name__ == \"__main__\":\n",
    "    with requests.Session() as session:\n",
    "        login(session)\n",
    "\n",
    "        fetch_and_save(session, API_ENDPOINTS['latest_orbits'], \"Dataset/latest_orbits.csv\")\n",
    "        fetch_and_save(session, API_ENDPOINTS['recent_history_iss'], \"Dataset/iss_recent_history.csv\")\n",
    "        fetch_and_save(session, API_ENDPOINTS['satellite_catalog_recent'], \"Dataset/satellite_catalog_recent.csv\")\n",
    "        fetch_and_save(session, API_ENDPOINTS['recent_conjunctions'], \"Dataset/recent_conjunctions.csv\")\n",
    "        fetch_and_save(session, API_ENDPOINTS['predicted_decay'], \"Dataset/predicted_decay.csv\")\n"
   ]
  }
 ],
 "metadata": {
  "kernelspec": {
   "display_name": "base",
   "language": "python",
   "name": "python3"
  },
  "language_info": {
   "codemirror_mode": {
    "name": "ipython",
    "version": 3
   },
   "file_extension": ".py",
   "mimetype": "text/x-python",
   "name": "python",
   "nbconvert_exporter": "python",
   "pygments_lexer": "ipython3",
   "version": "3.12.4"
  }
 },
 "nbformat": 4,
 "nbformat_minor": 5
}
